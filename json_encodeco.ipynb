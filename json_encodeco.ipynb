{
 "cells": [
  {
   "cell_type": "code",
   "execution_count": 2,
   "metadata": {},
   "outputs": [
    {
     "name": "stdout",
     "output_type": "stream",
     "text": [
      "{\"switches\": [{\"whx\": \"whx-rj\", \"id\": \"s1\", \"dpid\": \"000001\"}, {\"whx\": \"whx-sp\", \"id\": \"s2\", \"dpid\": \"000002\"}], \"hosts\": [{\"switch\": \"s1\", \"id\": \"h1\"}, {\"switch\": \"s1\", \"id\": \"h11\"}, {\"switch\": \"s2\", \"id\": \"h2\"}], \"name\": \"vnet1\", \"links\": [{\"switch2\": \"s2\", \"switch1\": \"s1\", \"id\": \"l1\"}]}\n",
      "<type 'dict'>\n",
      "{u's2': <__main__.Switch instance at 0x00000000081DCCC8>, u's1': <__main__.Switch instance at 0x00000000081DCF88>}\n",
      "{u'l1': <__main__.Link instance at 0x00000000081DCF08>}\n",
      "{u'h2': <__main__.Host instance at 0x00000000081DCE48>, u'h11': <__main__.Host instance at 0x00000000081DCEC8>, u'h1': <__main__.Host instance at 0x00000000081DCF48>}\n",
      "{\"switches\": [{\"whx\": \"whx-rj\", \"id\": \"s1\", \"dpid\": \"000001\"}, {\"whx\": \"whx-sp\", \"id\": \"s2\", \"dpid\": \"000002\"}], \"hosts\": [{\"switch\": \"s1\", \"id\": \"h1\"}, {\"switch\": \"s1\", \"id\": \"h11\"}, {\"switch\": \"s2\", \"id\": \"h2\"}], \"name\": \"vnet1\", \"links\": [{\"switch2\": \"s2\", \"switch1\": \"s1\", \"id\": \"l1\"}]}\n"
     ]
    }
   ],
   "source": [
    "# -*- coding: utf-8 -*-\n",
    "\n",
    "import json\n",
    "from collections import namedtuple\n",
    "\n",
    "\n",
    "class VNet:\n",
    "  def __init__(self,name, switches, links, hosts):\n",
    "    self.name = name\n",
    "    self.switches = switches\n",
    "    self.links = links\n",
    "    self.hosts = hosts\n",
    "\n",
    "  def reprJSON(self):\n",
    "    return dict(name=self.name, switches = self.switches, links = self.links, hosts = self.hosts)\n",
    "\n",
    "class Switch:\n",
    "  def __init__(self, id, dpid, whx):\n",
    "    self.id = id\n",
    "    self.dpid = dpid\n",
    "    self.whx = whx\n",
    "\n",
    "  def reprJSON(self):\n",
    "    return dict(id = self.id, dpid = self.dpid, whx = self.whx)\n",
    "\n",
    "class Link:\n",
    "  def __init__(self, id, switch1, switch2):\n",
    "    self.id = id\n",
    "    self.switch1 = switch1\n",
    "    self.switch2 = switch2\n",
    "\n",
    "  def reprJSON(self):\n",
    "    return dict(id = self.id, switch1 = self.switch1.id, switch2 = self.switch2.id)\n",
    "\n",
    "class Host:\n",
    "  def __init__(self, id, switch):\n",
    "    self.id = id\n",
    "    self.switch = switch\n",
    "\n",
    "  def reprJSON(self):\n",
    "    return dict(id = self.id, switch = self.switch.id)\n",
    "\n",
    "class MyEncoder(json.JSONEncoder):\n",
    "    def default(self, obj):\n",
    "        if hasattr(obj,'reprJSON'):\n",
    "            return obj.reprJSON()\n",
    "        else:\n",
    "            return json.JSONEncoder.default(self, obj)\n",
    "\n",
    "def myVNetDecoder(jStr):\n",
    "  jdict = json.loads(jStr)\n",
    "  print dict\n",
    "  sws = {}\n",
    "  for sw in jdict[\"switches\"]:\n",
    "    sws[sw[\"id\"]]=Switch(sw[\"id\"], sw[\"dpid\"], sw[\"whx\"])\n",
    "  print sws\n",
    "  ls = {}\n",
    "  for l in jdict[\"links\"]:\n",
    "    ls[l[\"id\"]]=Link(l[\"id\"], sws[l[\"switch1\"]], sws[l[\"switch2\"]])\n",
    "  print ls\n",
    "  hs = {}\n",
    "  for h in jdict[\"hosts\"]:\n",
    "    hs[h[\"id\"]]=Host(h[\"id\"], h[\"switch\"])\n",
    "  print hs\n",
    "\n",
    "\n",
    "\n",
    "\n",
    "\n",
    "s1 = Switch(\"s1\", \"000001\", \"whx-rj\")\n",
    "s2 = Switch(\"s2\", \"000002\", \"whx-sp\")\n",
    "l1 = Link(\"l1\", s1, s2)\n",
    "h1 = Host(\"h1\", s1)\n",
    "h2 = Host(\"h2\", s2)\n",
    "h11 = Host(\"h11\", s1)\n",
    "vnet = VNet(\"vnet1\", [s1, s2], [l1], [h1, h11, h2])\n",
    "\n",
    "jStr = json.dumps(vnet.__dict__, cls=MyEncoder)\n",
    "print jStr\n",
    "\n",
    "jvnet= myVNetDecoder(jStr)\n",
    "\n",
    "jStr2 = json.dumps(vnet.__dict__, cls=MyEncoder)\n",
    "print jStr2\n",
    "\n",
    "\n"
   ]
  },
  {
   "cell_type": "code",
   "execution_count": null,
   "metadata": {
    "collapsed": true
   },
   "outputs": [],
   "source": []
  },
  {
   "cell_type": "code",
   "execution_count": 3,
   "metadata": {},
   "outputs": [
    {
     "name": "stdout",
     "output_type": "stream",
     "text": [
      "{\"switches\": [{\"whx\": \"whx-rj\", \"id\": \"s1\", \"dpid\": \"000001\"}, {\"whx\": \"whx-sp\", \"id\": \"s2\", \"dpid\": \"000002\"}], \"hosts\": [{\"switch\": \"s1\", \"id\": \"h1\"}, {\"switch\": \"s1\", \"id\": \"h11\"}, {\"switch\": \"s2\", \"id\": \"h2\"}], \"name\": \"vnet1\", \"links\": [{\"switch2\": \"s2\", \"switch1\": \"s1\", \"id\": \"l1\"}]}\n"
     ]
    }
   ],
   "source": [
    "print jStr2"
   ]
  },
  {
   "cell_type": "code",
   "execution_count": null,
   "metadata": {
    "collapsed": true
   },
   "outputs": [],
   "source": []
  }
 ],
 "metadata": {
  "kernelspec": {
   "display_name": "Python 2",
   "language": "python",
   "name": "python2"
  },
  "language_info": {
   "codemirror_mode": {
    "name": "ipython",
    "version": 2
   },
   "file_extension": ".py",
   "mimetype": "text/x-python",
   "name": "python",
   "nbconvert_exporter": "python",
   "pygments_lexer": "ipython2",
   "version": "2.7.13"
  }
 },
 "nbformat": 4,
 "nbformat_minor": 2
}
